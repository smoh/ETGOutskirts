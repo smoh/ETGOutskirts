{
 "metadata": {
  "name": ""
 },
 "nbformat": 3,
 "nbformat_minor": 0,
 "worksheets": [
  {
   "cells": [
    {
     "cell_type": "code",
     "collapsed": false,
     "input": [
      "%pylab inline\n",
      "from pylab import *\n",
      "from astropy import cosmology\n",
      "from astropy.table import Table\n",
      "import fp"
     ],
     "language": "python",
     "metadata": {},
     "outputs": [
      {
       "output_type": "stream",
       "stream": "stdout",
       "text": [
        "Populating the interactive namespace from numpy and matplotlib\n"
       ]
      }
     ],
     "prompt_number": 1
    },
    {
     "cell_type": "code",
     "collapsed": false,
     "input": [
      "master = Table.read('SampleZMprobaEllSub_visual.fits')\n",
      "z, sigma = master['Z_1'], master['VDISP']"
     ],
     "language": "python",
     "metadata": {},
     "outputs": [],
     "prompt_number": 7
    },
    {
     "cell_type": "code",
     "collapsed": false,
     "input": [
      "tdvc = Table.read('sdss_psf/dvc/deblended/RAWFIT00000.00048.fits')\n",
      "Ie, Re, N, q, c, x, y, pa = tdvc['FIT_DVC'].T"
     ],
     "language": "python",
     "metadata": {},
     "outputs": [],
     "prompt_number": 39
    },
    {
     "cell_type": "code",
     "collapsed": false,
     "input": [
      "class Sersic(object):\n",
      "    def __init__(self, params):\n",
      "        self.Ie = params[0]\n",
      "        self.Re = params[1]\n",
      "        self.n = params[2]\n",
      "        self.q = params[3]\n",
      "        self.c = params[4]\n",
      "        self.x = params[5]\n",
      "        self.y = params[6]\n",
      "        self.pa = params[7]\n",
      "    \n",
      "    @property\n",
      "    def Ro(self):\n",
      "        \"\"\" circularized radius \"\"\"\n",
      "        return self.Re*sqrt(self.q)\n",
      "    \n",
      "    @property\n",
      "    def mu_e(self):\n",
      "        \"\"\" surface brightness (mag/arcsec) \"\"\"\n",
      "        return 22.5 - 2.5 * log10(self.Ie/0.396**2)\n",
      "    \n",
      "    @property\n",
      "    def bn(self):\n",
      "        pass\n",
      "    \n",
      "    @property\n",
      "    def mu_e_avg(self):\n",
      "        \"\"\" mean surface brightness within Re \"\"\"\n",
      "        return self.mu_e - 1.393  # for N=4\n",
      "    \n",
      "    @property\n",
      "    def total_flux_mag(self):\n",
      "        \"\"\"total flux in magnitude \"\"\"\n",
      "        return self.mu_e_avg - 2.5*log10(2*pi*(self.Re*0.396)**2*self.q)\n",
      "\n",
      "    \n",
      "\n",
      "print Sersic(tdvc['FIT_DVC'].T).total_flux_mag"
     ],
     "language": "python",
     "metadata": {},
     "outputs": [
      {
       "output_type": "stream",
       "stream": "stdout",
       "text": [
        "   FIT_DVC   \n",
        "-------------\n",
        "13.3666714791\n",
        " 13.604260006\n",
        "13.4200898284\n",
        "13.0228285706\n",
        " 14.277969246\n",
        "16.3046408797\n",
        "14.3091433305\n",
        " 12.567579354\n",
        "16.5630883297\n",
        "14.1080941961\n",
        "12.9091887998\n",
        "          ...\n",
        "15.5293397258\n",
        "14.5639165567\n",
        "15.1364700385\n",
        " 16.251534732\n",
        "14.8547729543\n",
        "14.4442973897\n",
        "14.2062246908\n",
        "12.4879093971\n",
        "13.4248126505\n",
        "13.3477646535\n",
        "13.1588828827\n"
       ]
      }
     ],
     "prompt_number": 67
    },
    {
     "cell_type": "code",
     "collapsed": false,
     "input": [
      "mu_e = 22.5 - 2.5 * log10(Ie / 0.396**2)  # mag/arcsec^2\n",
      "mu_e_avg = mu_e - 1.393\n",
      "flux_mag = mu_e_avg - 2.5*log10(2*pi*(Re*0.396)**2*q)"
     ],
     "language": "python",
     "metadata": {},
     "outputs": [],
     "prompt_number": 59
    },
    {
     "cell_type": "code",
     "collapsed": false,
     "input": [
      "r_pixel = fp.Bernardi03_r.r(sigma.data, flux_mag.data, z) / 0.396"
     ],
     "language": "python",
     "metadata": {},
     "outputs": [],
     "prompt_number": 60
    },
    {
     "cell_type": "code",
     "collapsed": false,
     "input": [
      "log_ratio = log10(r_pixel/sqrt(q)/Re)\n",
      "plot(log_ratio)\n",
      "print mean(log_ratio), std(log_ratio)"
     ],
     "language": "python",
     "metadata": {},
     "outputs": [
      {
       "output_type": "stream",
       "stream": "stdout",
       "text": [
        "-0.113098208803 0.187721731322\n"
       ]
      },
      {
       "metadata": {},
       "output_type": "display_data",
       "png": "[encoded data removed]",
       "text": [
        "<matplotlib.figure.Figure at 0x3c37f50>"
       ]
      }
     ],
     "prompt_number": 61
    },
    {
     "cell_type": "code",
     "collapsed": false,
     "input": [
      "10**0.1"
     ],
     "language": "python",
     "metadata": {},
     "outputs": [
      {
       "metadata": {},
       "output_type": "pyout",
       "prompt_number": 63,
       "text": [
        "1.2589254117941673"
       ]
      }
     ],
     "prompt_number": 63
    },
    {
     "cell_type": "code",
     "collapsed": false,
     "input": [
      "tdvc.colnames"
     ],
     "language": "python",
     "metadata": {},
     "outputs": [
      {
       "metadata": {},
       "output_type": "pyout",
       "prompt_number": 24,
       "text": [
        "['NAME',\n",
        " 'PARENT_ID',\n",
        " 'ATLAS_ID',\n",
        " 'RERUN',\n",
        " 'RUN',\n",
        " 'CAMCOL',\n",
        " 'FIELD',\n",
        " 'XPOS',\n",
        " 'YPOS',\n",
        " 'SPA',\n",
        " 'DVC_VAL',\n",
        " 'DVC_FIX',\n",
        " 'XCROP',\n",
        " 'YCROP',\n",
        " 'XLEN',\n",
        " 'YLEN',\n",
        " 'FIT_DVC',\n",
        " 'CHISQ_DVC',\n",
        " 'COVAR_DVC',\n",
        " 'PERR_DVC',\n",
        " 'STAT_DVC',\n",
        " 'DOF_DVC',\n",
        " 'SKY_DVC',\n",
        " 'SKYERR_DVC',\n",
        " 'FLUXRATIO_DVC']"
       ]
      }
     ],
     "prompt_number": 24
    },
    {
     "cell_type": "code",
     "collapsed": false,
     "input": [],
     "language": "python",
     "metadata": {},
     "outputs": []
    }
   ],
   "metadata": {}
  }
 ]
}