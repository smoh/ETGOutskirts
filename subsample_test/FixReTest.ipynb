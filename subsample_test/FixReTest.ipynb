{
 "metadata": {
  "name": ""
 },
 "nbformat": 3,
 "nbformat_minor": 0,
 "worksheets": [
  {
   "cells": [
    {
     "cell_type": "code",
     "collapsed": false,
     "input": [
      "%pylab inline\n",
      "import os, time, datetime, tempfile\n",
      "from astropy.table import Table\n",
      "from astropy.table import vstack as tvstack\n",
      "from astropy.io import fits\n",
      "from astropy import cosmology\n",
      "cosmo = cosmology.FlatLambdaCDM(70., 0.3)\n",
      "sys.path.append('../')\n",
      "from make_input import InputTable\n",
      "from pybdfitter.sersic import ip, nanomaggie2mag, NSersic\n",
      "from pybdfitter.fitter import fit_sample_stream\n",
      "from pybdfitter.plot import Plotter\n",
      "from pybdfitter.fp import Bernardi03_r\n",
      "import mpltools\n",
      "mpltools.set_ipynb()"
     ],
     "language": "python",
     "metadata": {},
     "outputs": [
      {
       "output_type": "stream",
       "stream": "stdout",
       "text": [
        "Populating the interactive namespace from numpy and matplotlib\n"
       ]
      },
      {
       "output_type": "stream",
       "stream": "stderr",
       "text": [
        "WARNING: pylab import has clobbered these variables: ['grid']\n",
        "`%pylab --no-import-all` prevents importing * from pylab and numpy\n"
       ]
      }
     ],
     "prompt_number": 12
    },
    {
     "cell_type": "code",
     "collapsed": false,
     "input": [
      "def fit_wrapper(inputTable, profile):\n",
      "    \"\"\"\n",
      "    Run bdfitter on inputTable and return the result\n",
      "    \n",
      "    inputTable : astropy.table.Table\n",
      "    profile : profile_name:n_params e.g., \"DVC:8\"\n",
      "    \n",
      "    Returns\n",
      "        outTable : result RAWFITXXX as astropy.table.Table\n",
      "    \"\"\"\n",
      "    # write to a FITS\n",
      "    fd, fname = tempfile.mkstemp(dir='.', suffix='.fits')\n",
      "    inputTable.write(fname)\n",
      "    t1 = time.time()\n",
      "    outname = fit_sample_stream(fname, profile, 0, 0, '.',\n",
      "                           imgdir='data/deblended', residual=False, debug=False)\n",
      "    t2 = time.time()\n",
      "    print \"Time Elapsed = \", datetime.timedelta(seconds=t2-t1)\n",
      "    outTable = Table.read(outname)\n",
      "    os.remove(outname)\n",
      "    os.remove(fname)\n",
      "    return outTable"
     ],
     "language": "python",
     "metadata": {},
     "outputs": [],
     "prompt_number": 2
    },
    {
     "cell_type": "code",
     "collapsed": false,
     "input": [
      "m = Table.read('sample.fits')[[9]]\n",
      "kcorr = m['KCORRECT'][0,4]\n",
      "ext = m['EXTINCTION'][0,4]\n",
      "print m['IAUNAME']"
     ],
     "language": "python",
     "metadata": {},
     "outputs": [
      {
       "output_type": "stream",
       "stream": "stdout",
       "text": [
        "      IAUNAME      \n",
        "-------------------\n",
        "J123948.37-024745.9\n"
       ]
      }
     ],
     "prompt_number": 3
    },
    {
     "cell_type": "code",
     "collapsed": false,
     "input": [
      "attempt = 0\n",
      "chain = []\n",
      "while attempt < 20:\n",
      "    print ' attempt {:d} '.format(attempt).center(80,'-')\n",
      "    # build input table\n",
      "    inputTable = InputTable(m)\n",
      "    inputTable.add_profile('SER2', 2)\n",
      "    \n",
      "    if attempt == 0:\n",
      "        # First run the fitter with only Sersic indices fixed\n",
      "        # PA, axis ratio, Re, center from NSA\n",
      "        inputTable.set_values_from_NSA('SER2', 0)\n",
      "        inputTable.set_values_from_NSA('SER2', 1)\n",
      "        # Component 1 ------------------------------\n",
      "        # fix the first component to de Vaucouleurs\n",
      "        inputTable['SER2_VAL'][:,ip['n']] = 4.\n",
      "        inputTable['SER2_FIX'][:,ip['n']] = 1.\n",
      "        # Component 2 ------------------------------\n",
      "        # effective radius = twice of comp1\n",
      "        inputTable['SER2_VAL'][:,8+ip['Re']] = inputTable['SER2_VAL'][:,ip['Re']] * 2\n",
      "        # fix the second component to exponential\n",
      "        inputTable['SER2_VAL'][:,8+ip['n']] = 1.\n",
      "        inputTable['SER2_FIX'][:,8+ip['n']] = 1.\n",
      "    else:\n",
      "        # first copy best-fit parameters from previous run\n",
      "        inputTable['SER2_VAL'] = outTable['FIT_SER2']\n",
      "\n",
      "        # use FP to fix size of comp1\n",
      "        z = inputTable['Z_1'].data\n",
      "        sigma = inputTable['VDISP'].data\n",
      "        kpc_per_arcsec = cosmo.angular_diameter_distance(z).value * 1000./206265.\n",
      "        p = NSersic(outTable['FIT_SER2'].data.T)\n",
      "        I0 = (p[0].mu_e_avg - kcorr - ext - log10(1+z))/-2.5\n",
      "        R0 = 10**(Bernardi03_r.a*log10(sigma) + Bernardi03_r.b*I0 + Bernardi03_r.c)\n",
      "        r0 = R0 / kpc_per_arcsec\n",
      "        re_pix = r0/0.396 / sqrt(p[0].q)\n",
      "        inputTable['SER2_VAL'][:,ip['Re']] = re_pix\n",
      "        # fix indices and Re\n",
      "        inputTable['SER2_FIX'][:,ip['n']] = 1.\n",
      "        inputTable['SER2_FIX'][:,ip['Re']] = 1.\n",
      "        inputTable['SER2_FIX'][:,8+ip['n']] = 1.\n",
      "    \n",
      "    print inputTable['SER2_VAL'].data\n",
      "    print inputTable['SER2_FIX'].data\n",
      "    # Run fitter\n",
      "    outTable = fit_wrapper(inputTable, 'SER2:16')\n",
      "    attempt += 1\n",
      "    chain.append(outTable.copy())"
     ],
     "language": "python",
     "metadata": {},
     "outputs": [
      {
       "output_type": "stream",
       "stream": "stdout",
       "text": [
        "---------------------------------- attempt 0 -----------------------------------\n",
        "[[   1.           22.12302208    4.            0.68847895    0.\n",
        "   203.43817139  153.47035217    3.1709311     1.           44.24604416\n",
        "     1.            0.68847895    0.          203.43817139  153.47035217\n",
        "     3.1709311 ]]\n",
        "[[0 0 1 0 1 0 0 0 0 0 1 0 1 0 0 0]]\n",
        "cpus:            1\n"
       ]
      },
      {
       "output_type": "stream",
       "stream": "stdout",
       "text": [
        "MRDFITS: Binary table.  11 columns by  1 rows.\n",
        "No filter given. Use r band\n",
        "J123948.37-024745.9:            1 of            1\n",
        "MRDFITS: Image array (440,320)  Type=Real*8\n",
        "MRDFITS: Image array (440,320)  Type=Real*8\n",
        "   cropped size:         440x         320\n",
        "MWRFITS: Warning: 8 byte integers are non-standard (column 11)\n"
       ]
      },
      {
       "output_type": "stream",
       "stream": "stdout",
       "text": [
        "writing output file: ./RAWFIT00000.00000.fits\n",
        "IDL Version 8.1 (linux x86_64 m64). (c) 2011, ITT Visual Information Solutions\n",
        "Installation number: 97068-4.\n",
        "Licensed for use by: Princeton University\n",
        "\n",
        "% Compiled module: FIT_SAMPLE.\n",
        "\n",
        "Time Elapsed =  0:01:00.229470\n",
        "---------------------------------- attempt 1 -----------------------------------\n",
        "[[  3.78666763e-01   1.28911521e+01   4.00000000e+00   7.72208231e-01\n",
        "    0.00000000e+00   2.03525014e+02   1.53535792e+02   3.11082555e+00\n",
        "    1.91831886e-02   3.54729727e+01   1.00000000e+00   8.06580475e-01\n",
        "    0.00000000e+00   2.03525014e+02   1.53535792e+02   1.03015655e-01]]"
       ]
      },
      {
       "output_type": "stream",
       "stream": "stdout",
       "text": [
        "\n",
        "[[0 1 1 0 1 0 0 0 0 0 1 0 1 0 0 0]]\n",
        "cpus:            1\n"
       ]
      },
      {
       "output_type": "stream",
       "stream": "stdout",
       "text": [
        "MRDFITS: Binary table.  11 columns by  1 rows.\n",
        "No filter given. Use r band\n",
        "J123948.37-024745.9:            1 of            1\n",
        "MRDFITS: Image array (440,320)  Type=Real*8\n",
        "MRDFITS: Image array (440,320)  Type=Real*8\n",
        "   cropped size:         440x         320\n",
        "MWRFITS: Warning: 8 byte integers are non-standard (column 11)\n"
       ]
      },
      {
       "output_type": "stream",
       "stream": "stdout",
       "text": [
        "writing output file: ./RAWFIT00000.00000.fits\n",
        "IDL Version 8.1 (linux x86_64 m64). (c) 2011, ITT Visual Information Solutions\n",
        "Installation number: 97068-4.\n",
        "Licensed for use by: Princeton University\n",
        "\n",
        "% Compiled module: FIT_SAMPLE.\n",
        "\n",
        "Time Elapsed =  0:00:17.905002\n",
        "---------------------------------- attempt 2 -----------------------------------\n",
        "[[  3.56067119e-01   1.35068955e+01   4.00000000e+00   7.71426916e-01\n",
        "    0.00000000e+00   2.03527296e+02   1.53537739e+02   3.11301589e+00\n",
        "    1.39665708e-02   3.86188327e+01   1.00000000e+00   8.12529815e-01\n",
        "    0.00000000e+00   2.03527296e+02   1.53537739e+02   1.26447070e-01]]"
       ]
      },
      {
       "output_type": "stream",
       "stream": "stdout",
       "text": [
        "\n",
        "[[0 1 1 0 1 0 0 0 0 0 1 0 1 0 0 0]]\n",
        "cpus:            1\n"
       ]
      },
      {
       "output_type": "stream",
       "stream": "stdout",
       "text": [
        "MRDFITS: Binary table.  11 columns by  1 rows.\n",
        "No filter given. Use r band\n",
        "J123948.37-024745.9:            1 of            1\n",
        "MRDFITS: Image array (440,320)  Type=Real*8\n",
        "MRDFITS: Image array (440,320)  Type=Real*8\n",
        "   cropped size:         440x         320\n"
       ]
      },
      {
       "output_type": "stream",
       "stream": "stdout",
       "text": [
        "MWRFITS: Warning: 8 byte integers are non-standard (column 11)\n",
        "writing output file: ./RAWFIT00000.00000.fits\n",
        "IDL Version 8.1 (linux x86_64 m64). (c) 2011, ITT Visual Information Solutions\n",
        "Installation number: 97068-4.\n",
        "Licensed for use by: Princeton University\n",
        "\n",
        "% Compiled module: FIT_SAMPLE.\n",
        "\n",
        "Time Elapsed =  0:00:20.139939\n",
        "---------------------------------- attempt 3 -----------------------------------"
       ]
      },
      {
       "output_type": "stream",
       "stream": "stdout",
       "text": [
        "\n",
        "[[  3.37383120e-01   1.40654198e+01   4.00000000e+00   7.71282097e-01\n",
        "    0.00000000e+00   2.03529937e+02   1.53539641e+02   3.11385395e+00\n",
        "    9.59649115e-03   4.35548604e+01   1.00000000e+00   8.12505426e-01\n",
        "    0.00000000e+00   2.03529937e+02   1.53539641e+02   1.68245519e-01]]\n",
        "[[0 1 1 0 1 0 0 0 0 0 1 0 1 0 0 0]]\n",
        "cpus:            1\n"
       ]
      },
      {
       "output_type": "stream",
       "stream": "stdout",
       "text": [
        "MRDFITS: Binary table.  11 columns by  1 rows.\n",
        "No filter given. Use r band\n",
        "J123948.37-024745.9:            1 of            1\n",
        "MRDFITS: Image array (440,320)  Type=Real*8\n",
        "MRDFITS: Image array (440,320)  Type=Real*8\n",
        "   cropped size:         440x         320\n"
       ]
      },
      {
       "output_type": "stream",
       "stream": "stdout",
       "text": [
        "MWRFITS: Warning: 8 byte integers are non-standard (column 11)\n",
        "writing output file: ./RAWFIT00000.00000.fits\n",
        "IDL Version 8.1 (linux x86_64 m64). (c) 2011, ITT Visual Information Solutions\n",
        "Installation number: 97068-4.\n",
        "Licensed for use by: Princeton University\n",
        "\n",
        "% Compiled module: FIT_SAMPLE.\n",
        "\n",
        "Time Elapsed =  0:00:25.955865\n",
        "---------------------------------- attempt 4 -----------------------------------"
       ]
      },
      {
       "output_type": "stream",
       "stream": "stdout",
       "text": [
        "\n",
        "[[  3.21945544e-01   1.45602763e+01   4.00000000e+00   7.72130681e-01\n",
        "    0.00000000e+00   2.03532607e+02   1.53541484e+02   3.11512477e+00\n",
        "    5.77414813e-03   5.46522359e+01   1.00000000e+00   7.87103968e-01\n",
        "    0.00000000e+00   2.03532607e+02   1.53541484e+02   2.14299478e-01]]\n",
        "[[0 1 1 0 1 0 0 0 0 0 1 0 1 0 0 0]]\n",
        "cpus:            1\n"
       ]
      },
      {
       "output_type": "stream",
       "stream": "stdout",
       "text": [
        "MRDFITS: Binary table.  11 columns by  1 rows.\n",
        "No filter given. Use r band\n",
        "J123948.37-024745.9:            1 of            1\n",
        "MRDFITS: Image array (440,320)  Type=Real*8\n",
        "MRDFITS: Image array (440,320)  Type=Real*8\n",
        "   cropped size:         440x         320\n"
       ]
      },
      {
       "output_type": "stream",
       "stream": "stdout",
       "text": [
        "MWRFITS: Warning: 8 byte integers are non-standard (column 11)\n",
        "writing output file: ./RAWFIT00000.00000.fits\n",
        "IDL Version 8.1 (linux x86_64 m64). (c) 2011, ITT Visual Information Solutions\n",
        "Installation number: 97068-4.\n",
        "Licensed for use by: Princeton University\n",
        "\n",
        "% Compiled module: FIT_SAMPLE.\n",
        "\n",
        "Time Elapsed =  0:00:29.813660\n",
        "---------------------------------- attempt 5 -----------------------------------"
       ]
      },
      {
       "output_type": "stream",
       "stream": "stdout",
       "text": [
        "\n",
        "[[  3.09265205e-01   1.49971481e+01   4.00000000e+00   7.73018201e-01\n",
        "    0.00000000e+00   2.03535448e+02   1.53543418e+02   3.11638646e+00\n",
        "    2.95638569e-03   8.13064218e+01   1.00000000e+00   7.18925258e-01\n",
        "    0.00000000e+00   2.03535448e+02   1.53543418e+02   3.15028936e-01]]\n",
        "[[0 1 1 0 1 0 0 0 0 0 1 0 1 0 0 0]]\n",
        "cpus:            1\n"
       ]
      },
      {
       "output_type": "stream",
       "stream": "stdout",
       "text": [
        "MRDFITS: Binary table.  11 columns by  1 rows.\n",
        "No filter given. Use r band\n",
        "J123948.37-024745.9:            1 of            1\n",
        "MRDFITS: Image array (440,320)  Type=Real*8\n",
        "MRDFITS: Image array (440,320)  Type=Real*8\n",
        "   cropped size:         440x         320\n",
        "MWRFITS: Warning: 8 byte integers are non-standard (column 11)\n"
       ]
      },
      {
       "output_type": "stream",
       "stream": "stdout",
       "text": [
        "writing output file: ./RAWFIT00000.00000.fits\n",
        "IDL Version 8.1 (linux x86_64 m64). (c) 2011, ITT Visual Information Solutions\n",
        "Installation number: 97068-4.\n",
        "Licensed for use by: Princeton University\n",
        "\n",
        "% Compiled module: FIT_SAMPLE.\n",
        "\n",
        "Time Elapsed =  0:00:23.294833\n",
        "---------------------------------- attempt 6 -----------------------------------\n",
        "[[  2.98593857e-01   1.54028845e+01   4.00000000e+00   7.72464005e-01\n",
        "    0.00000000e+00   2.03536062e+02   1.53544096e+02   3.11874777e+00\n",
        "    1.48116473e-03   1.28881335e+02   1.00000000e+00   6.67624459e-01\n",
        "    0.00000000e+00   2.03536062e+02   1.53544096e+02   4.33990956e-01]]"
       ]
      },
      {
       "output_type": "stream",
       "stream": "stdout",
       "text": [
        "\n",
        "[[0 1 1 0 1 0 0 0 0 0 1 0 1 0 0 0]]\n",
        "cpus:            1\n"
       ]
      },
      {
       "output_type": "stream",
       "stream": "stdout",
       "text": [
        "MRDFITS: Binary table.  11 columns by  1 rows.\n",
        "No filter given. Use r band\n",
        "J123948.37-024745.9:            1 of            1\n",
        "MRDFITS: Image array (440,320)  Type=Real*8\n",
        "MRDFITS: Image array (440,320)  Type=Real*8\n",
        "   cropped size:         440x         320\n"
       ]
      },
      {
       "output_type": "stream",
       "stream": "stdout",
       "text": [
        "MWRFITS: Warning: 8 byte integers are non-standard (column 11)\n",
        "writing output file: ./RAWFIT00000.00000.fits\n",
        "IDL Version 8.1 (linux x86_64 m64). (c) 2011, ITT Visual Information Solutions\n",
        "Installation number: 97068-4.\n",
        "Licensed for use by: Princeton University\n",
        "\n",
        "% Compiled module: FIT_SAMPLE.\n",
        "\n",
        "Time Elapsed =  0:00:23.410874\n",
        "---------------------------------- attempt 7 -----------------------------------"
       ]
      },
      {
       "output_type": "stream",
       "stream": "stdout",
       "text": [
        "\n",
        "[[  2.89038641e-01   1.58014645e+01   4.00000000e+00   7.70681851e-01\n",
        "    0.00000000e+00   2.03535900e+02   1.53544213e+02   3.12105819e+00\n",
        "    7.79671187e-04   2.09413678e+02   1.00000000e+00   6.42060504e-01\n",
        "    0.00000000e+00   2.03535900e+02   1.53544213e+02   5.60697172e-01]]\n",
        "[[0 1 1 0 1 0 0 0 0 0 1 0 1 0 0 0]]\n",
        "cpus:            1\n"
       ]
      },
      {
       "output_type": "stream",
       "stream": "stdout",
       "text": [
        "MRDFITS: Binary table.  11 columns by  1 rows.\n",
        "No filter given. Use r band\n",
        "J123948.37-024745.9:            1 of            1\n",
        "MRDFITS: Image array (440,320)  Type=Real*8\n",
        "MRDFITS: Image array (440,320)  Type=Real*8\n",
        "   cropped size:         440x         320\n"
       ]
      },
      {
       "output_type": "stream",
       "stream": "stdout",
       "text": [
        "MWRFITS: Warning: 8 byte integers are non-standard (column 11)\n",
        "writing output file: ./RAWFIT00000.00000.fits\n",
        "IDL Version 8.1 (linux x86_64 m64). (c) 2011, ITT Visual Information Solutions\n",
        "Installation number: 97068-4.\n",
        "Licensed for use by: Princeton University\n",
        "\n",
        "% Compiled module: FIT_SAMPLE.\n",
        "\n",
        "Time Elapsed =  0:00:30.401821\n",
        "---------------------------------- attempt 8 -----------------------------------"
       ]
      },
      {
       "output_type": "stream",
       "stream": "stdout",
       "text": [
        "\n",
        "[[  2.79961213e-01   1.62111034e+01   4.00000000e+00   7.68124678e-01\n",
        "    0.00000000e+00   2.03535555e+02   1.53543866e+02   3.12248310e+00\n",
        "    4.37806345e-04   3.73770792e+02   1.00000000e+00   5.99242685e-01\n",
        "    0.00000000e+00   2.03535555e+02   1.53543866e+02   7.61699427e-01]]\n",
        "[[0 1 1 0 1 0 0 0 0 0 1 0 1 0 0 0]]\n",
        "cpus:            1\n"
       ]
      },
      {
       "output_type": "stream",
       "stream": "stdout",
       "text": [
        "MRDFITS: Binary table.  11 columns by  1 rows.\n",
        "No filter given. Use r band\n",
        "J123948.37-024745.9:            1 of            1\n",
        "MRDFITS: Image array (440,320)  Type=Real*8\n",
        "MRDFITS: Image array (440,320)  Type=Real*8\n",
        "   cropped size:         440x         320\n",
        "MWRFITS: Warning: 8 byte integers are non-standard (column 11)\n"
       ]
      },
      {
       "output_type": "stream",
       "stream": "stdout",
       "text": [
        "writing output file: ./RAWFIT00000.00000.fits\n",
        "IDL Version 8.1 (linux x86_64 m64). (c) 2011, ITT Visual Information Solutions\n",
        "Installation number: 97068-4.\n",
        "Licensed for use by: Princeton University\n",
        "\n",
        "% Compiled module: FIT_SAMPLE.\n",
        "\n",
        "Time Elapsed =  0:00:26.782653\n",
        "---------------------------------- attempt 9 -----------------------------------"
       ]
      },
      {
       "output_type": "stream",
       "stream": "stdout",
       "text": [
        "\n",
        "[[  2.70991063e-01   1.66421900e+01   4.00000000e+00   7.65332698e-01\n",
        "    0.00000000e+00   2.03536020e+02   1.53544337e+02   3.12342740e+00\n",
        "    2.35413530e-04   1.84199738e+03   1.00000000e+00   2.51318333e-01\n",
        "    0.00000000e+00   2.03536020e+02   1.53544337e+02   9.16728318e-01]]\n",
        "[[0 1 1 0 1 0 0 0 0 0 1 0 1 0 0 0]]\n",
        "cpus:            1\n"
       ]
      },
      {
       "output_type": "stream",
       "stream": "stdout",
       "text": [
        "MRDFITS: Binary table.  11 columns by  1 rows.\n",
        "No filter given. Use r band\n",
        "J123948.37-024745.9:            1 of            1\n",
        "MRDFITS: Image array (440,320)  Type=Real*8\n",
        "MRDFITS: Image array (440,320)  Type=Real*8\n",
        "   cropped size:         440x         320\n",
        "MWRFITS: Warning: 8 byte integers are non-standard (column 11)\n"
       ]
      },
      {
       "output_type": "stream",
       "stream": "stdout",
       "text": [
        "writing output file: ./RAWFIT00000.00000.fits\n",
        "IDL Version 8.1 (linux x86_64 m64). (c) 2011, ITT Visual Information Solutions\n",
        "Installation number: 97068-4.\n",
        "Licensed for use by: Princeton University\n",
        "\n",
        "% Compiled module: FIT_SAMPLE.\n",
        "\n",
        "Time Elapsed =  0:00:47.688310\n",
        "---------------------------------- attempt 10 ----------------------------------\n",
        "[[  2.62158343e-01   1.71103723e+01   4.00000000e+00   7.60920401e-01\n",
        "    0.00000000e+00   2.03536722e+02   1.53544191e+02   3.12449054e+00\n",
        "    1.78569480e-04   3.31145014e+04   1.00000000e+00   2.43298853e-01\n",
        "    0.00000000e+00   2.03536722e+02   1.53544191e+02   1.56145755e+00]]"
       ]
      },
      {
       "output_type": "stream",
       "stream": "stdout",
       "text": [
        "\n",
        "[[0 1 1 0 1 0 0 0 0 0 1 0 1 0 0 0]]\n",
        "cpus:            1\n"
       ]
      },
      {
       "output_type": "stream",
       "stream": "stdout",
       "text": [
        "MRDFITS: Binary table.  11 columns by  1 rows.\n",
        "No filter given. Use r band\n",
        "J123948.37-024745.9:            1 of            1\n",
        "MRDFITS: Image array (440,320)  Type=Real*8\n",
        "MRDFITS: Image array (440,320)  Type=Real*8\n",
        "   cropped size:         440x         320\n"
       ]
      },
      {
       "output_type": "stream",
       "stream": "stdout",
       "text": [
        "MWRFITS: Warning: 8 byte integers are non-standard (column 11)\n",
        "writing output file: ./RAWFIT00000.00000.fits\n",
        "IDL Version 8.1 (linux x86_64 m64). (c) 2011, ITT Visual Information Solutions\n",
        "Installation number: 97068-4.\n",
        "Licensed for use by: Princeton University\n",
        "\n",
        "% Compiled module: FIT_SAMPLE.\n",
        "\n",
        "Time Elapsed =  0:02:59.256267\n",
        "---------------------------------- attempt 11 ----------------------------------"
       ]
      },
      {
       "output_type": "stream",
       "stream": "stdout",
       "text": [
        "\n",
        "[[  2.52932393e-01   1.76234684e+01   4.00000000e+00   7.56857687e-01\n",
        "    0.00000000e+00   2.03537998e+02   1.53543599e+02   3.12552539e+00\n",
        "    1.24864563e-04   3.36798403e+04   1.00000000e+00   5.02312857e-02\n",
        "    0.00000000e+00   2.03537998e+02   1.53543599e+02  -7.39858806e-01]]"
       ]
      },
      {
       "output_type": "stream",
       "stream": "stdout",
       "text": [
        "\n",
        "[[0 1 1 0 1 0 0 0 0 0 1 0 1 0 0 0]]\n",
        "cpus:            1\n"
       ]
      },
      {
       "output_type": "stream",
       "stream": "stdout",
       "text": [
        "MRDFITS: Binary table.  11 columns by  1 rows.\n",
        "No filter given. Use r band\n",
        "J123948.37-024745.9:            1 of            1\n",
        "MRDFITS: Image array (440,320)  Type=Real*8\n",
        "MRDFITS: Image array (440,320)  Type=Real*8\n",
        "   cropped size:         440x         320\n"
       ]
      },
      {
       "output_type": "stream",
       "stream": "stdout",
       "text": [
        "MWRFITS: Warning: 8 byte integers are non-standard (column 11)\n",
        "writing output file: ./RAWFIT00000.00000.fits\n",
        "IDL Version 8.1 (linux x86_64 m64). (c) 2011, ITT Visual Information Solutions\n",
        "Installation number: 97068-4.\n",
        "Licensed for use by: Princeton University\n",
        "\n",
        "% Compiled module: FIT_SAMPLE.\n",
        "\n",
        "Time Elapsed =  0:00:09.403502\n",
        "---------------------------------- attempt 12 ----------------------------------"
       ]
      },
      {
       "output_type": "stream",
       "stream": "stdout",
       "text": [
        "\n",
        "[[  1.25790021e-01   2.97584298e+01   4.00000000e+00   7.56857929e-01\n",
        "    0.00000000e+00   2.03537998e+02   1.53543599e+02   3.12552539e+00\n",
        "    9.84318740e-07   3.38730876e+04   1.00000000e+00   5.00416492e-02\n",
        "    0.00000000e+00   2.03537998e+02   1.53543599e+02  -7.39761638e-01]]\n",
        "[[0 1 1 0 1 0 0 0 0 0 1 0 1 0 0 0]]\n",
        "cpus:            1\n"
       ]
      },
      {
       "output_type": "stream",
       "stream": "stdout",
       "text": [
        "MRDFITS: Binary table.  11 columns by  1 rows.\n",
        "No filter given. Use r band\n",
        "J123948.37-024745.9:            1 of            1\n",
        "MRDFITS: Image array (440,320)  Type=Real*8\n",
        "MRDFITS: Image array (440,320)  Type=Real*8\n",
        "   cropped size:         440x         320\n",
        "MWRFITS: Warning: 8 byte integers are non-standard (column 11)\n"
       ]
      },
      {
       "output_type": "stream",
       "stream": "stdout",
       "text": [
        "writing output file: ./RAWFIT00000.00000.fits\n",
        "IDL Version 8.1 (linux x86_64 m64). (c) 2011, ITT Visual Information Solutions\n",
        "Installation number: 97068-4.\n",
        "Licensed for use by: Princeton University\n",
        "\n",
        "% Compiled module: FIT_SAMPLE.\n",
        "\n",
        "Time Elapsed =  0:00:09.110365\n",
        "---------------------------------- attempt 13 ----------------------------------"
       ]
      },
      {
       "output_type": "stream",
       "stream": "stdout",
       "text": [
        "\n",
        "[[  4.41172668e-02   6.52962432e+01   4.00000000e+00   7.56857962e-01\n",
        "    0.00000000e+00   2.03537998e+02   1.53543599e+02   3.12552539e+00\n",
        "    9.76582905e-07   3.39039884e+04   1.00000000e+00   5.00022960e-02\n",
        "    0.00000000e+00   2.03537998e+02   1.53543599e+02  -7.39756679e-01]]\n",
        "[[0 1 1 0 1 0 0 0 0 0 1 0 1 0 0 0]]\n",
        "cpus:            1\n"
       ]
      },
      {
       "output_type": "stream",
       "stream": "stdout",
       "text": [
        "MRDFITS: Binary table.  11 columns by  1 rows.\n",
        "No filter given. Use r band\n",
        "J123948.37-024745.9:            1 of            1\n",
        "MRDFITS: Image array (440,320)  Type=Real*8\n",
        "MRDFITS: Image array (440,320)  Type=Real*8\n",
        "   cropped size:         440x         320\n",
        "MWRFITS: Warning: 8 byte integers are non-standard (column 11)\n"
       ]
      },
      {
       "output_type": "stream",
       "stream": "stdout",
       "text": [
        "writing output file: ./RAWFIT00000.00000.fits\n",
        "IDL Version 8.1 (linux x86_64 m64). (c) 2011, ITT Visual Information Solutions\n",
        "Installation number: 97068-4.\n",
        "Licensed for use by: Princeton University\n",
        "\n",
        "% Compiled module: FIT_SAMPLE.\n",
        "\n",
        "Time Elapsed =  0:00:08.769083\n",
        "---------------------------------- attempt 14 ----------------------------------"
       ]
      },
      {
       "output_type": "stream",
       "stream": "stdout",
       "text": [
        "\n",
        "[[  9.16330607e-03   2.12229377e+02   4.00000000e+00   7.56857965e-01\n",
        "    0.00000000e+00   2.03537998e+02   1.53543599e+02   3.12552539e+00\n",
        "    9.75557507e-07   3.39056463e+04   1.00000000e+00   5.00000587e-02\n",
        "    0.00000000e+00   2.03537998e+02   1.53543599e+02  -7.39756849e-01]]\n",
        "[[0 1 1 0 1 0 0 0 0 0 1 0 1 0 0 0]]\n",
        "cpus:            1\n"
       ]
      },
      {
       "output_type": "stream",
       "stream": "stdout",
       "text": [
        "MRDFITS: Binary table.  11 columns by  1 rows.\n",
        "No filter given. Use r band\n",
        "J123948.37-024745.9:            1 of            1\n",
        "MRDFITS: Image array (440,320)  Type=Real*8\n",
        "MRDFITS: Image array (440,320)  Type=Real*8\n",
        "   cropped size:         440x         320\n",
        "MWRFITS: Warning: 8 byte integers are non-standard (column 11)\n"
       ]
      },
      {
       "output_type": "stream",
       "stream": "stdout",
       "text": [
        "writing output file: ./RAWFIT00000.00000.fits\n",
        "IDL Version 8.1 (linux x86_64 m64). (c) 2011, ITT Visual Information Solutions\n",
        "Installation number: 97068-4.\n",
        "Licensed for use by: Princeton University\n",
        "\n",
        "% Compiled module: FIT_SAMPLE.\n",
        "\n",
        "Time Elapsed =  0:03:18.463381\n",
        "---------------------------------- attempt 15 ----------------------------------"
       ]
      },
      {
       "output_type": "stream",
       "stream": "stdout",
       "text": [
        "\n",
        "[[  9.23669801e-03   2.67979905e+02   4.00000000e+00   4.69055355e-01\n",
        "    0.00000000e+00   2.03640468e+02   1.53422615e+02   1.32113504e-02\n",
        "    1.09191288e-05   2.31405376e+02   1.00000000e+00   5.00000000e-02\n",
        "    0.00000000e+00   2.03640468e+02   1.53422615e+02  -1.55773896e+00]]\n",
        "[[0 1 1 0 1 0 0 0 0 0 1 0 1 0 0 0]]\n",
        "cpus:            1\n"
       ]
      },
      {
       "output_type": "stream",
       "stream": "stdout",
       "text": [
        "MRDFITS: Binary table.  11 columns by  1 rows.\n",
        "No filter given. Use r band\n",
        "J123948.37-024745.9:            1 of            1\n",
        "MRDFITS: Image array (440,320)  Type=Real*8\n",
        "MRDFITS: Image array (440,320)  Type=Real*8\n",
        "   cropped size:         440x         320\n"
       ]
      },
      {
       "output_type": "stream",
       "stream": "stdout",
       "text": [
        "MWRFITS: Warning: 8 byte integers are non-standard (column 11)\n",
        "writing output file: ./RAWFIT00000.00000.fits\n",
        "IDL Version 8.1 (linux x86_64 m64). (c) 2011, ITT Visual Information Solutions\n",
        "Installation number: 97068-4.\n",
        "Licensed for use by: Princeton University\n",
        "\n",
        "% Compiled module: FIT_SAMPLE.\n",
        "\n",
        "Time Elapsed =  0:01:14.489660\n",
        "---------------------------------- attempt 16 ----------------------------------"
       ]
      },
      {
       "output_type": "stream",
       "stream": "stdout",
       "text": [
        "\n",
        "[[  3.13892365e-03   5.47995628e+02   4.00000000e+00   5.66211070e-01\n",
        "    0.00000000e+00   2.03558107e+02   1.53541145e+02   6.82325538e-04\n",
        "    2.08651007e+00   4.66044047e+00   1.00000000e+00   8.34305312e-01\n",
        "    0.00000000e+00   2.03558107e+02   1.53541145e+02  -1.64215029e-02]]\n",
        "[[0 1 1 0 1 0 0 0 0 0 1 0 1 0 0 0]]\n",
        "cpus:            1\n"
       ]
      },
      {
       "output_type": "stream",
       "stream": "stdout",
       "text": [
        "MRDFITS: Binary table.  11 columns by  1 rows.\n",
        "No filter given. Use r band\n",
        "J123948.37-024745.9:            1 of            1\n",
        "MRDFITS: Image array (440,320)  Type=Real*8\n",
        "MRDFITS: Image array (440,320)  Type=Real*8\n",
        "   cropped size:         440x         320\n"
       ]
      },
      {
       "output_type": "stream",
       "stream": "stdout",
       "text": [
        "MWRFITS: Warning: 8 byte integers are non-standard (column 11)\n",
        "writing output file: ./RAWFIT00000.00000.fits\n",
        "IDL Version 8.1 (linux x86_64 m64). (c) 2011, ITT Visual Information Solutions\n",
        "Installation number: 97068-4.\n",
        "Licensed for use by: Princeton University\n",
        "\n",
        "% Compiled module: FIT_SAMPLE.\n",
        "\n",
        "Time Elapsed =  0:00:28.025789\n",
        "---------------------------------- attempt 17 ----------------------------------"
       ]
      },
      {
       "output_type": "stream",
       "stream": "stdout",
       "text": [
        "\n",
        "[[  1.23006512e-03   1.17758940e+03   4.00000000e+00   4.99831634e-01\n",
        "    0.00000000e+00   2.03562376e+02   1.53539227e+02   8.12477758e-03\n",
        "    1.91534770e+00   5.22282766e+00   1.00000000e+00   8.24706782e-01\n",
        "    0.00000000e+00   2.03562376e+02   1.53539227e+02  -1.47592128e-02]]\n",
        "[[0 1 1 0 1 0 0 0 0 0 1 0 1 0 0 0]]\n",
        "cpus:            1\n"
       ]
      },
      {
       "output_type": "stream",
       "stream": "stdout",
       "text": [
        "MRDFITS: Binary table.  11 columns by  1 rows.\n",
        "No filter given. Use r band\n",
        "J123948.37-024745.9:            1 of            1\n",
        "MRDFITS: Image array (440,320)  Type=Real*8\n",
        "MRDFITS: Image array (440,320)  Type=Real*8\n",
        "   cropped size:         440x         320\n"
       ]
      },
      {
       "output_type": "stream",
       "stream": "stdout",
       "text": [
        "MWRFITS: Warning: 8 byte integers are non-standard (column 11)\n",
        "writing output file: ./RAWFIT00000.00000.fits\n",
        "IDL Version 8.1 (linux x86_64 m64). (c) 2011, ITT Visual Information Solutions\n",
        "Installation number: 97068-4.\n",
        "Licensed for use by: Princeton University\n",
        "\n",
        "% Compiled module: FIT_SAMPLE.\n",
        "\n",
        "Time Elapsed =  0:00:30.261530\n",
        "---------------------------------- attempt 18 ----------------------------------"
       ]
      },
      {
       "output_type": "stream",
       "stream": "stdout",
       "text": [
        "\n",
        "[[  5.05632118e-04   2.48572463e+03   4.00000000e+00   4.25643162e-01\n",
        "    0.00000000e+00   2.03565675e+02   1.53537769e+02   1.64977468e-02\n",
        "    1.78055308e+00   5.68821273e+00   1.00000000e+00   8.16663258e-01\n",
        "    0.00000000e+00   2.03565675e+02   1.53537769e+02  -1.39937672e-02]]\n",
        "[[0 1 1 0 1 0 0 0 0 0 1 0 1 0 0 0]]\n",
        "cpus:            1\n"
       ]
      },
      {
       "output_type": "stream",
       "stream": "stdout",
       "text": [
        "MRDFITS: Binary table.  11 columns by  1 rows.\n",
        "No filter given. Use r band\n",
        "J123948.37-024745.9:            1 of            1\n",
        "MRDFITS: Image array (440,320)  Type=Real*8\n",
        "MRDFITS: Image array (440,320)  Type=Real*8\n",
        "   cropped size:         440x         320\n"
       ]
      },
      {
       "output_type": "stream",
       "stream": "stdout",
       "text": [
        "MWRFITS: Warning: 8 byte integers are non-standard (column 11)\n",
        "writing output file: ./RAWFIT00000.00000.fits\n",
        "IDL Version 8.1 (linux x86_64 m64). (c) 2011, ITT Visual Information Solutions\n",
        "Installation number: 97068-4.\n",
        "Licensed for use by: Princeton University\n",
        "\n",
        "% Compiled module: FIT_SAMPLE.\n",
        "\n",
        "Time Elapsed =  0:00:30.500074\n",
        "---------------------------------- attempt 19 ----------------------------------"
       ]
      },
      {
       "output_type": "stream",
       "stream": "stdout",
       "text": [
        "\n",
        "[[  2.39576133e-04   4.80013051e+03   4.00000000e+00   3.49971158e-01\n",
        "    0.00000000e+00   2.03567911e+02   1.53536833e+02   2.21886473e-02\n",
        "    1.69120829e+00   6.01457166e+00   1.00000000e+00   8.11234152e-01\n",
        "    0.00000000e+00   2.03567911e+02   1.53536833e+02  -1.30742245e-02]]\n",
        "[[0 1 1 0 1 0 0 0 0 0 1 0 1 0 0 0]]\n",
        "cpus:            1\n"
       ]
      },
      {
       "output_type": "stream",
       "stream": "stdout",
       "text": [
        "MRDFITS: Binary table.  11 columns by  1 rows.\n",
        "No filter given. Use r band\n",
        "J123948.37-024745.9:            1 of            1\n",
        "MRDFITS: Image array (440,320)  Type=Real*8\n",
        "MRDFITS: Image array (440,320)  Type=Real*8\n",
        "   cropped size:         440x         320\n"
       ]
      },
      {
       "output_type": "stream",
       "stream": "stdout",
       "text": [
        "MWRFITS: Warning: 8 byte integers are non-standard (column 11)\n",
        "writing output file: ./RAWFIT00000.00000.fits\n",
        "IDL Version 8.1 (linux x86_64 m64). (c) 2011, ITT Visual Information Solutions\n",
        "Installation number: 97068-4.\n",
        "Licensed for use by: Princeton University\n",
        "\n",
        "% Compiled module: FIT_SAMPLE.\n",
        "\n",
        "Time Elapsed =  0:00:33.767943\n"
       ]
      }
     ],
     "prompt_number": 4
    },
    {
     "cell_type": "code",
     "collapsed": false,
     "input": [
      "a = tvstack(chain)"
     ],
     "language": "python",
     "metadata": {},
     "outputs": [],
     "prompt_number": 5
    },
    {
     "cell_type": "raw",
     "metadata": {},
     "source": [
      "Re of dV component (in pixels)"
     ]
    },
    {
     "cell_type": "code",
     "collapsed": false,
     "input": [
      "print a['FIT_SER2'][:,ip['Re']]"
     ],
     "language": "python",
     "metadata": {},
     "outputs": [
      {
       "output_type": "stream",
       "stream": "stdout",
       "text": [
        "   FIT_SER2  \n",
        "-------------\n",
        "12.2211089642\n",
        "12.8911521007\n",
        "13.5068954873\n",
        "14.0654197771\n",
        "14.5602763156\n",
        "14.9971481034\n",
        "15.4028845049\n",
        "15.8014644891\n",
        "16.2111034475\n",
        "16.6421899688\n",
        " 17.110372326\n",
        "17.6234683638\n",
        "29.7584297949\n",
        "65.2962431861\n",
        "212.229376524\n",
        "267.979904542\n",
        "547.995628381\n",
        " 1177.5894003\n",
        "2485.72463469\n",
        "4800.13050901\n"
       ]
      }
     ],
     "prompt_number": 22
    },
    {
     "cell_type": "code",
     "collapsed": false,
     "input": [
      "figure(figsize=(15,8))\n",
      "subplot(231)\n",
      "plot(a['FIT_SER2'][:,ip['Ie']],'ro', a['FIT_SER2'][:,8+ip['Ie']],'b')\n",
      "yscale('log')\n",
      "ylabel('Ie (nanomaggie/pix)')\n",
      "\n",
      "subplot(232)\n",
      "plot(a['FIT_SER2'][:,ip['Re']],'ro', a['FIT_SER2'][:,8+ip['Re']],'b')\n",
      "yscale('log')\n",
      "ylabel('Re (pix)')\n",
      "\n",
      "subplot(233)\n",
      "plot(a['FIT_SER2'][:,ip['q']],'ro', a['FIT_SER2'][:,8+ip['q']],'b')\n",
      "ylabel('q')\n",
      "\n",
      "subplot(234)\n",
      "plot(a['FIT_SER2'][:,ip['pa']],'ro', a['FIT_SER2'][:,8+ip['pa']],'b')\n",
      "ylabel('q')\n",
      "\n",
      "subplot(235)\n",
      "plot(a['CHISQ_SER2'])\n",
      "ylabel('reduced chi^2')\n"
     ],
     "language": "python",
     "metadata": {},
     "outputs": [
      {
       "metadata": {},
       "output_type": "pyout",
       "prompt_number": 21,
       "text": [
        "<matplotlib.text.Text at 0x8539d50>"
       ]
      },
      {
       "metadata": {},
       "output_type": "display_data",
       "png": "[encoded data removed]",
       "text": [
        "<matplotlib.figure.Figure at 0x725f410>"
       ]
      }
     ],
     "prompt_number": 21
    },
    {
     "cell_type": "code",
     "collapsed": false,
     "input": [
      "figure(figsize(8,3))\n",
      "subplot(131)\n",
      "try:\n",
      "    plot(chain['CHISQ'],'ko-')\n",
      "    ylabel('CHISQ')\n",
      "except:\n",
      "    pass\n",
      "\n",
      "subplot(132)\n",
      "plot([p[0] for p in chain['PARAM']], 'ro-')\n",
      "plot([p[8] for p in chain['PARAM']], 'bo-')\n",
      "ylabel('I0')\n",
      "\n",
      "subplot(133)\n",
      "plot([p[1] for p in chain['PARAM']], 'ro-')\n",
      "plot([p[9] for p in chain['PARAM']], 'bo-')\n",
      "ylabel('Re')\n",
      "show()"
     ],
     "language": "python",
     "metadata": {},
     "outputs": [],
     "prompt_number": 15
    },
    {
     "cell_type": "code",
     "collapsed": false,
     "input": [
      "cc = Plotter(Table.read('RAWFIT00000.00000.fits'))"
     ],
     "language": "python",
     "metadata": {},
     "outputs": [],
     "prompt_number": 3
    }
   ],
   "metadata": {}
  }
 ]
}